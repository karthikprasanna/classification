{
 "cells": [
  {
   "cell_type": "code",
   "execution_count": 1,
   "metadata": {},
   "outputs": [],
   "source": [
    "import pandas as pd\n",
    "df = pd.read_csv(\"./penguins_train.csv\")\n"
   ]
  },
  {
   "cell_type": "code",
   "execution_count": 2,
   "metadata": {},
   "outputs": [],
   "source": [
    "df.drop(\"Sex\", axis=1, inplace=True)"
   ]
  },
  {
   "cell_type": "code",
   "execution_count": 3,
   "metadata": {},
   "outputs": [
    {
     "data": {
      "text/html": [
       "<div>\n",
       "<style scoped>\n",
       "    .dataframe tbody tr th:only-of-type {\n",
       "        vertical-align: middle;\n",
       "    }\n",
       "\n",
       "    .dataframe tbody tr th {\n",
       "        vertical-align: top;\n",
       "    }\n",
       "\n",
       "    .dataframe thead th {\n",
       "        text-align: right;\n",
       "    }\n",
       "</style>\n",
       "<table border=\"1\" class=\"dataframe\">\n",
       "  <thead>\n",
       "    <tr style=\"text-align: right;\">\n",
       "      <th></th>\n",
       "      <th>Island</th>\n",
       "      <th>Clutch Completion</th>\n",
       "      <th>Culmen Length (mm)</th>\n",
       "      <th>Culmen Depth (mm)</th>\n",
       "      <th>Flipper Length (mm)</th>\n",
       "      <th>Body Mass (g)</th>\n",
       "      <th>Delta 15 N (o/oo)</th>\n",
       "      <th>Delta 13 C (o/oo)</th>\n",
       "      <th>Species</th>\n",
       "    </tr>\n",
       "  </thead>\n",
       "  <tbody>\n",
       "    <tr>\n",
       "      <th>0</th>\n",
       "      <td>Biscoe</td>\n",
       "      <td>Yes</td>\n",
       "      <td>38.8</td>\n",
       "      <td>17.2</td>\n",
       "      <td>180.0</td>\n",
       "      <td>3800.0</td>\n",
       "      <td>9.63954</td>\n",
       "      <td>-25.29856</td>\n",
       "      <td>Adelie Penguin (Pygoscelis adeliae)</td>\n",
       "    </tr>\n",
       "    <tr>\n",
       "      <th>1</th>\n",
       "      <td>Torgersen</td>\n",
       "      <td>Yes</td>\n",
       "      <td>41.1</td>\n",
       "      <td>18.6</td>\n",
       "      <td>189.0</td>\n",
       "      <td>3325.0</td>\n",
       "      <td>9.32277</td>\n",
       "      <td>-26.09989</td>\n",
       "      <td>Adelie Penguin (Pygoscelis adeliae)</td>\n",
       "    </tr>\n",
       "    <tr>\n",
       "      <th>2</th>\n",
       "      <td>Biscoe</td>\n",
       "      <td>Yes</td>\n",
       "      <td>39.0</td>\n",
       "      <td>17.5</td>\n",
       "      <td>186.0</td>\n",
       "      <td>3550.0</td>\n",
       "      <td>8.57199</td>\n",
       "      <td>-26.07188</td>\n",
       "      <td>Adelie Penguin (Pygoscelis adeliae)</td>\n",
       "    </tr>\n",
       "    <tr>\n",
       "      <th>3</th>\n",
       "      <td>Dream</td>\n",
       "      <td>No</td>\n",
       "      <td>39.7</td>\n",
       "      <td>17.9</td>\n",
       "      <td>193.0</td>\n",
       "      <td>4250.0</td>\n",
       "      <td>9.25769</td>\n",
       "      <td>-25.88798</td>\n",
       "      <td>Adelie Penguin (Pygoscelis adeliae)</td>\n",
       "    </tr>\n",
       "    <tr>\n",
       "      <th>4</th>\n",
       "      <td>Biscoe</td>\n",
       "      <td>Yes</td>\n",
       "      <td>47.5</td>\n",
       "      <td>14.2</td>\n",
       "      <td>209.0</td>\n",
       "      <td>4600.0</td>\n",
       "      <td>8.39299</td>\n",
       "      <td>-26.78733</td>\n",
       "      <td>Gentoo penguin (Pygoscelis papua)</td>\n",
       "    </tr>\n",
       "  </tbody>\n",
       "</table>\n",
       "</div>"
      ],
      "text/plain": [
       "      Island Clutch Completion  Culmen Length (mm)  Culmen Depth (mm)  \\\n",
       "0     Biscoe               Yes                38.8               17.2   \n",
       "1  Torgersen               Yes                41.1               18.6   \n",
       "2     Biscoe               Yes                39.0               17.5   \n",
       "3      Dream                No                39.7               17.9   \n",
       "4     Biscoe               Yes                47.5               14.2   \n",
       "\n",
       "   Flipper Length (mm)  Body Mass (g)  Delta 15 N (o/oo)  Delta 13 C (o/oo)  \\\n",
       "0                180.0         3800.0            9.63954          -25.29856   \n",
       "1                189.0         3325.0            9.32277          -26.09989   \n",
       "2                186.0         3550.0            8.57199          -26.07188   \n",
       "3                193.0         4250.0            9.25769          -25.88798   \n",
       "4                209.0         4600.0            8.39299          -26.78733   \n",
       "\n",
       "                               Species  \n",
       "0  Adelie Penguin (Pygoscelis adeliae)  \n",
       "1  Adelie Penguin (Pygoscelis adeliae)  \n",
       "2  Adelie Penguin (Pygoscelis adeliae)  \n",
       "3  Adelie Penguin (Pygoscelis adeliae)  \n",
       "4    Gentoo penguin (Pygoscelis papua)  "
      ]
     },
     "execution_count": 3,
     "metadata": {},
     "output_type": "execute_result"
    }
   ],
   "source": [
    "df.head()"
   ]
  },
  {
   "cell_type": "code",
   "execution_count": 4,
   "metadata": {},
   "outputs": [],
   "source": [
    "from sklearn.preprocessing import LabelEncoder\n",
    "\n",
    "encoder = LabelEncoder()\n",
    "\n",
    "df[\"Island\"] = encoder.fit_transform(df[\"Island\"])\n",
    "df[\"Clutch Completion\"] = encoder.fit_transform(df[\"Clutch Completion\"])\n",
    "\n",
    "df[\"Species\"] = encoder.fit_transform(df[\"Species\"])"
   ]
  },
  {
   "cell_type": "code",
   "execution_count": 5,
   "metadata": {},
   "outputs": [],
   "source": [
    "for column in df.columns:\n",
    "    df[column] = df[column].astype(float)\n",
    "    df[column].fillna(df[column].mean(), inplace=True)"
   ]
  },
  {
   "cell_type": "code",
   "execution_count": 6,
   "metadata": {},
   "outputs": [],
   "source": [
    "X = df.drop([\"Species\"], axis=1).values\n",
    "y = df[\"Species\"].values"
   ]
  },
  {
   "cell_type": "code",
   "execution_count": 7,
   "metadata": {},
   "outputs": [],
   "source": [
    "from sklearn.model_selection import train_test_split\n",
    "X_train, X_test, y_train, y_test = train_test_split(X, y, test_size=0.2, random_state=45)"
   ]
  },
  {
   "cell_type": "code",
   "execution_count": 8,
   "metadata": {},
   "outputs": [],
   "source": [
    "from sklearn.base import clone\n",
    "from collections import Counter\n",
    "import pandas as pd\n",
    "import numpy as np\n",
    "import matplotlib.pyplot as plt\n",
    "import seaborn as sns\n",
    "from sklearn.impute import SimpleImputer\n",
    "from sklearn.model_selection import train_test_split\n",
    "from sklearn.preprocessing import StandardScaler\n",
    "from sklearn.metrics import accuracy_score\n",
    "from sklearn.svm import SVC"
   ]
  },
  {
   "cell_type": "code",
   "execution_count": 9,
   "metadata": {},
   "outputs": [],
   "source": [
    "# One-vs-All (OvA) classifier\n",
    "class OneVsAllClassifierManual:\n",
    "    def __init__(self, base_classifier):\n",
    "        self.base_classifier = base_classifier\n",
    "        self.classifiers = []\n",
    "        self.classes = []\n",
    "        \n",
    "    def fit(self, X, y):\n",
    "        self.classes = np.unique(y)\n",
    "        for class_A in self.classes:\n",
    "            y_binary = np.where(y == class_A, 1, -1)\n",
    "            classifier = clone(self.base_classifier)\n",
    "            classifier.fit(X, y_binary)\n",
    "            self.classifiers.append(classifier)\n",
    "            \n",
    "    def predict(self, X):\n",
    "        predictions = []\n",
    "        for x in X:\n",
    "            decision_scores = []\n",
    "            for classifier in self.classifiers:\n",
    "                decision_scores.append(classifier.decision_function([x]))\n",
    "            most_probable_class = self.classes[np.argmax(decision_scores)]\n",
    "            predictions.append(most_probable_class)\n",
    "        return np.array(predictions)"
   ]
  },
  {
   "cell_type": "code",
   "execution_count": 10,
   "metadata": {},
   "outputs": [],
   "source": [
    "# Initialize the base classifier (Linear SVM)\n",
    "base_classifier = SVC(kernel='linear')"
   ]
  },
  {
   "cell_type": "code",
   "execution_count": 11,
   "metadata": {},
   "outputs": [],
   "source": [
    "# Create and train OvA classifier\n",
    "ova_classifier_manual = OneVsAllClassifierManual(base_classifier)\n",
    "ova_classifier_manual.fit(X_train, y_train)"
   ]
  },
  {
   "cell_type": "code",
   "execution_count": 12,
   "metadata": {},
   "outputs": [],
   "source": [
    "y_pred = ova_classifier_manual.predict(X_test)\n",
    "y_true = y_test"
   ]
  },
  {
   "cell_type": "code",
   "execution_count": 13,
   "metadata": {},
   "outputs": [
    {
     "name": "stdout",
     "output_type": "stream",
     "text": [
      "['Gentoo penguin (Pygoscelis papua)' 'Gentoo penguin (Pygoscelis papua)'\n",
      " 'Gentoo penguin (Pygoscelis papua)' 'Gentoo penguin (Pygoscelis papua)'\n",
      " 'Chinstrap penguin (Pygoscelis antarctica)'\n",
      " 'Gentoo penguin (Pygoscelis papua)' 'Adelie Penguin (Pygoscelis adeliae)'\n",
      " 'Adelie Penguin (Pygoscelis adeliae)'\n",
      " 'Adelie Penguin (Pygoscelis adeliae)'\n",
      " 'Adelie Penguin (Pygoscelis adeliae)'\n",
      " 'Chinstrap penguin (Pygoscelis antarctica)'\n",
      " 'Chinstrap penguin (Pygoscelis antarctica)'\n",
      " 'Adelie Penguin (Pygoscelis adeliae)'\n",
      " 'Chinstrap penguin (Pygoscelis antarctica)'\n",
      " 'Gentoo penguin (Pygoscelis papua)' 'Adelie Penguin (Pygoscelis adeliae)'\n",
      " 'Adelie Penguin (Pygoscelis adeliae)'\n",
      " 'Adelie Penguin (Pygoscelis adeliae)'\n",
      " 'Adelie Penguin (Pygoscelis adeliae)'\n",
      " 'Adelie Penguin (Pygoscelis adeliae)'\n",
      " 'Adelie Penguin (Pygoscelis adeliae)'\n",
      " 'Chinstrap penguin (Pygoscelis antarctica)'\n",
      " 'Gentoo penguin (Pygoscelis papua)' 'Adelie Penguin (Pygoscelis adeliae)'\n",
      " 'Gentoo penguin (Pygoscelis papua)' 'Adelie Penguin (Pygoscelis adeliae)'\n",
      " 'Adelie Penguin (Pygoscelis adeliae)' 'Gentoo penguin (Pygoscelis papua)'\n",
      " 'Gentoo penguin (Pygoscelis papua)' 'Gentoo penguin (Pygoscelis papua)'\n",
      " 'Chinstrap penguin (Pygoscelis antarctica)'\n",
      " 'Adelie Penguin (Pygoscelis adeliae)'\n",
      " 'Adelie Penguin (Pygoscelis adeliae)'\n",
      " 'Chinstrap penguin (Pygoscelis antarctica)'\n",
      " 'Adelie Penguin (Pygoscelis adeliae)' 'Gentoo penguin (Pygoscelis papua)'\n",
      " 'Gentoo penguin (Pygoscelis papua)' 'Adelie Penguin (Pygoscelis adeliae)'\n",
      " 'Adelie Penguin (Pygoscelis adeliae)'\n",
      " 'Chinstrap penguin (Pygoscelis antarctica)'\n",
      " 'Chinstrap penguin (Pygoscelis antarctica)'\n",
      " 'Adelie Penguin (Pygoscelis adeliae)'\n",
      " 'Chinstrap penguin (Pygoscelis antarctica)'\n",
      " 'Adelie Penguin (Pygoscelis adeliae)' 'Gentoo penguin (Pygoscelis papua)'\n",
      " 'Adelie Penguin (Pygoscelis adeliae)' 'Gentoo penguin (Pygoscelis papua)'\n",
      " 'Chinstrap penguin (Pygoscelis antarctica)'\n",
      " 'Adelie Penguin (Pygoscelis adeliae)'\n",
      " 'Adelie Penguin (Pygoscelis adeliae)' 'Gentoo penguin (Pygoscelis papua)'\n",
      " 'Adelie Penguin (Pygoscelis adeliae)'\n",
      " 'Adelie Penguin (Pygoscelis adeliae)'\n",
      " 'Adelie Penguin (Pygoscelis adeliae)'\n",
      " 'Adelie Penguin (Pygoscelis adeliae)']\n"
     ]
    }
   ],
   "source": [
    "decoded_y_pred = encoder.inverse_transform(y_pred.astype(int))\n",
    "decoded_y_true = encoder.inverse_transform(y_true.astype(int))\n",
    "\n",
    "# save the true and predicted values in a csv file\n",
    "df = pd.DataFrame({'True Values': decoded_y_true, 'Predicted Values': decoded_y_pred})\n",
    "df.to_csv('one_vs_all.csv', index=False)\n",
    "\n",
    "print(decoded_y_pred)"
   ]
  },
  {
   "cell_type": "code",
   "execution_count": 14,
   "metadata": {},
   "outputs": [
    {
     "name": "stdout",
     "output_type": "stream",
     "text": [
      "Accuracy: 0.9636363636363636\n",
      "Precision: 0.9636363636363636\n",
      "Recall: 0.9636363636363636\n",
      "F1-Score: 0.9636363636363636\n"
     ]
    }
   ],
   "source": [
    "from sklearn.metrics import accuracy_score, precision_score, recall_score, f1_score, classification_report\n",
    "accuracy = accuracy_score(y_true, y_pred)\n",
    "print(\"Accuracy:\", accuracy)\n",
    "\n",
    "precision = precision_score(y_true, y_pred, average=\"micro\")\n",
    "print(\"Precision:\", precision)\n",
    "\n",
    "recall = recall_score(y_true, y_pred, average=\"micro\")\n",
    "print(\"Recall:\", recall)\n",
    "\n",
    "f1 = f1_score(y_true, y_pred, average=\"micro\")\n",
    "print(\"F1-Score:\", f1)\n"
   ]
  },
  {
   "cell_type": "code",
   "execution_count": 15,
   "metadata": {},
   "outputs": [
    {
     "data": {
      "image/png": "[encoded data removed]",
      "text/plain": [
       "<Figure size 800x600 with 2 Axes>"
      ]
     },
     "metadata": {},
     "output_type": "display_data"
    }
   ],
   "source": [
    "import seaborn as sns\n",
    "import matplotlib.pyplot as plt\n",
    "from sklearn.metrics import confusion_matrix\n",
    "confusion_mat = confusion_matrix(y_true, y_pred)\n",
    "\n",
    "# Create a DataFrame for better visualization\n",
    "confusion_df = pd.DataFrame(confusion_mat, index=encoder.classes_, columns=encoder.classes_)\n",
    "\n",
    "# Plot the confusion matrix using seaborn\n",
    "plt.figure(figsize=(8, 6))\n",
    "sns.heatmap(confusion_df, annot=True, fmt=\"d\", cmap=\"Blues\")\n",
    "plt.xlabel(\"Predicted\")\n",
    "plt.ylabel(\"Actual\")\n",
    "plt.title(\"Confusion Matrix\")\n",
    "plt.show()"
   ]
  }
 ],
 "metadata": {
  "kernelspec": {
   "display_name": "base",
   "language": "python",
   "name": "python3"
  },
  "language_info": {
   "codemirror_mode": {
    "name": "ipython",
    "version": 3
   },
   "file_extension": ".py",
   "mimetype": "text/x-python",
   "name": "python",
   "nbconvert_exporter": "python",
   "pygments_lexer": "ipython3",
   "version": "3.10.10"
  },
  "orig_nbformat": 4
 },
 "nbformat": 4,
 "nbformat_minor": 2
}
